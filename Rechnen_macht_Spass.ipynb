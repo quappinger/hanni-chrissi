{
 "cells": [
  {
   "cell_type": "code",
   "execution_count": null,
   "metadata": {},
   "outputs": [],
   "source": [
    "from random import randint\n",
    "\n",
    "print(\"Willkommen bei 'Rechnen macht Spaß!' von Johanna und Christian Aumayr\\n\\n\")\n",
    "name = input(\"Wie ist dein Name: \")\n",
    "print(\"\\n\")\n",
    "print(\"Hallo \" + name + \"!\")\n",
    "print(\"Welche Rechenart möchtest du üben?\")\n",
    "print(\"[1]: Zusammenzählen\")\n",
    "print(\"[2]: Wegrechnen\")\n",
    "print(\"[3]: Malrechnen\")\n",
    "print(\"[4]: Teilen\")\n",
    "auswahl = input(\"Deine Wahl: \")\n",
    "print(\"\\n\")\n",
    "try:\n",
    "    if int(auswahl) == 1:\n",
    "        print(\"Super, also Zusammenzählen!\")\n",
    "    elif int(auswahl) == 2:\n",
    "        print(\"Super, also Wegrechnen!\")\n",
    "    elif int(auswahl) == 3:\n",
    "        print(\"Super, also Malrechnen!\")\n",
    "    elif int(auswahl) == 4:\n",
    "        print(\"Super, also Teilen!\")\n",
    "except:\n",
    "    print(\"Ungültige Eingabe!\")\n",
    "groesstezahl = input(\"Wie weit willst du Rechnen? \")\n",
    "punkte = 0\n",
    "for i in range(10):\n",
    "    zahl1 = randint(1, int(groesstezahl))\n",
    "    zahl2 = randint(1, int(groesstezahl))\n",
    "    tipp = input(str(zahl1) + \" + \" + str(zahl2) + \" = \")\n",
    "    ergebnis = zahl1 + zahl2\n",
    "    if int(tipp) == ergebnis:\n",
    "        print(\"Bravo, das ist richtig!\")\n",
    "        punkte+=1\n",
    "    else:\n",
    "        print(\"Das ist leider nicht richtig. Richtig wäre: \" + str(ergebnis))\n",
    "print(\"Du hast \" + str(punkte) + \" Punkte erreicht! Gratuliere \" + name + \"!\")\n",
    "input(\"\")"
   ]
  },
  {
   "cell_type": "code",
   "execution_count": null,
   "metadata": {},
   "outputs": [],
   "source": []
  },
  {
   "cell_type": "code",
   "execution_count": null,
   "metadata": {},
   "outputs": [],
   "source": []
  },
  {
   "cell_type": "code",
   "execution_count": null,
   "metadata": {},
   "outputs": [],
   "source": []
  }
 ],
 "metadata": {
  "kernelspec": {
   "display_name": "Python 3",
   "language": "python",
   "name": "python3"
  },
  "language_info": {
   "codemirror_mode": {
    "name": "ipython",
    "version": 3
   },
   "file_extension": ".py",
   "mimetype": "text/x-python",
   "name": "python",
   "nbconvert_exporter": "python",
   "pygments_lexer": "ipython3",
   "version": "3.6.4"
  }
 },
 "nbformat": 4,
 "nbformat_minor": 2
}

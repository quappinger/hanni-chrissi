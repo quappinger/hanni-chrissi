{
 "cells": [
  {
   "cell_type": "code",
   "execution_count": 8,
   "metadata": {},
   "outputs": [
    {
     "name": "stdout",
     "output_type": "stream",
     "text": [
      "Willkommen bei 'Rechnen macht Spaß!' von Johanna und Christian Aumayr\n",
      "\n",
      "\n",
      "Wie ist dein Name: hanni\n",
      "\n",
      "\n",
      "Hallo hanni!\n",
      "Welche Rechenart möchtest du üben?\n",
      "[1]: Zusammenzählen\n",
      "[2]: Wegrechnen\n",
      "[3]: Malrechnen\n",
      "[4]: Teilen\n",
      "Deine Wahl: 2\n",
      "\n",
      "\n",
      "Super, also Wegrechnen!\n",
      "Wie weit willst du Rechnen? 50\n",
      "46 - 6 = 40\n",
      "Bravo, das ist richtig!\n",
      "40 - 20 = 20\n",
      "Bravo, das ist richtig!\n",
      "36 - 33 = 3\n",
      "Bravo, das ist richtig!\n",
      "50 - 28 = 38\n",
      "Das ist leider nicht richtig. Richtig wäre: 22\n",
      "42 - 18 = 21\n",
      "Das ist leider nicht richtig. Richtig wäre: 24\n",
      "3 - 2 = 1\n",
      "Bravo, das ist richtig!\n",
      "44 - 36 = 2\n",
      "Das ist leider nicht richtig. Richtig wäre: 8\n",
      "50 - 10 = 40\n",
      "Bravo, das ist richtig!\n",
      "46 - 38 = 12\n",
      "Das ist leider nicht richtig. Richtig wäre: 8\n",
      "45 - 18 = 27\n",
      "Bravo, das ist richtig!\n",
      "Du hast 6 Punkte erreicht! Gratuliere hanni!\n",
      "Auf Wiedersehen!\n"
     ]
    },
    {
     "data": {
      "text/plain": [
       "''"
      ]
     },
     "execution_count": 8,
     "metadata": {},
     "output_type": "execute_result"
    }
   ],
   "source": [
    "from random import randint\n",
    "\n",
    "punkte = 0\n",
    "\n",
    "def zusammenzaehlen():\n",
    "    global punkte\n",
    "    zahl1 = randint(1, int(groesstezahl))\n",
    "    zahl2 = randint(1, int(groesstezahl))\n",
    "    tipp = input(str(zahl1) + \" + \" + str(zahl2) + \" = \")\n",
    "    ergebnis = zahl1 + zahl2\n",
    "    if int(tipp) == ergebnis:\n",
    "        print(\"Bravo, das ist richtig!\")\n",
    "        punkte+=1\n",
    "    else:\n",
    "        print(\"Das ist leider nicht richtig. Richtig wäre: \" + str(ergebnis))\n",
    "\n",
    "def wegrechnen():\n",
    "    global punkte\n",
    "    zahl1 = randint(1, int(groesstezahl))\n",
    "    zahl2 = randint(1, int(groesstezahl))\n",
    "    if zahl2 > zahl1:\n",
    "        zahl1, zahl2 = zahl2, zahl1\n",
    "    tipp = input(str(zahl1) + \" - \" + str(zahl2) + \" = \")\n",
    "    ergebnis = zahl1 - zahl2\n",
    "    if int(tipp) == ergebnis:\n",
    "        print(\"Bravo, das ist richtig!\")\n",
    "        punkte+=1\n",
    "    else:\n",
    "        print(\"Das ist leider nicht richtig. Richtig wäre: \" + str(ergebnis))\n",
    "\n",
    "print(\"Willkommen bei 'Rechnen macht Spaß!' von Johanna und Christian Aumayr\\n\\n\")\n",
    "name = input(\"Wie ist dein Name: \")\n",
    "print(\"\\n\")\n",
    "print(\"Hallo \" + name + \"!\")\n",
    "print(\"Welche Rechenart möchtest du üben?\")\n",
    "print(\"[1]: Zusammenzählen\")\n",
    "print(\"[2]: Wegrechnen\")\n",
    "print(\"[3]: Malrechnen\")\n",
    "print(\"[4]: Teilen\")\n",
    "auswahl = input(\"Deine Wahl: \")\n",
    "print(\"\\n\")\n",
    "try:\n",
    "    if int(auswahl) == 1:\n",
    "        print(\"Super, also Zusammenzählen!\")\n",
    "    elif int(auswahl) == 2:\n",
    "        print(\"Super, also Wegrechnen!\")\n",
    "    elif int(auswahl) == 3:\n",
    "        print(\"Super, also Malrechnen!\")\n",
    "    elif int(auswahl) == 4:\n",
    "        print(\"Super, also Teilen!\")\n",
    "except:\n",
    "    print(\"Ungültige Eingabe!\")\n",
    "groesstezahl = input(\"Wie weit willst du Rechnen? \")\n",
    "\n",
    "for i in range(10):\n",
    "    if int(auswahl) == 1:\n",
    "        zusammenzaehlen()\n",
    "    elif int(auswahl) == 2:\n",
    "        wegrechnen()\n",
    "    \n",
    "print(\"Du hast \" + str(punkte) + \" Punkte erreicht! Gratuliere \" + name + \"!\")\n",
    "input(\"Auf Wiedersehen!\")"
   ]
<<<<<<< HEAD
  },
  {
   "cell_type": "markdown",
   "metadata": {},
   "source": [
    "# "
   ]
=======
>>>>>>> e874c1fb9ba6a6d8ba1b42c0a93b2a78ad0ca0fb
  }
 ],
 "metadata": {
  "kernelspec": {
   "display_name": "Python 3",
   "language": "python",
   "name": "python3"
  },
  "language_info": {
   "codemirror_mode": {
    "name": "ipython",
    "version": 3
   },
   "file_extension": ".py",
   "mimetype": "text/x-python",
   "name": "python",
   "nbconvert_exporter": "python",
   "pygments_lexer": "ipython3",
   "version": "3.6.4"
  }
 },
 "nbformat": 4,
 "nbformat_minor": 2
}
